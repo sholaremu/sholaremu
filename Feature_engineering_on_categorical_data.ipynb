{
  "nbformat": 4,
  "nbformat_minor": 0,
  "metadata": {
    "colab": {
      "name": "Feature engineering on categorical data.ipynb",
      "private_outputs": true,
      "provenance": [],
      "mount_file_id": "1YjPVuLgEPdvA90kGKxo_m0wQhxnJwdAW",
      "authorship_tag": "ABX9TyPGllgtRkbAJNfGJ2oJKXnl",
      "include_colab_link": true
    },
    "kernelspec": {
      "name": "python3",
      "display_name": "Python 3"
    },
    "language_info": {
      "name": "python"
    }
  },
  "cells": [
    {
      "cell_type": "markdown",
      "metadata": {
        "id": "view-in-github",
        "colab_type": "text"
      },
      "source": [
        "<a href=\"https://colab.research.google.com/github/sholaremu/sholaremu/blob/main/Feature_engineering_on_categorical_data.ipynb\" target=\"_parent\"><img src=\"https://colab.research.google.com/assets/colab-badge.svg\" alt=\"Open In Colab\"/></a>"
      ]
    },
    {
      "cell_type": "code",
      "metadata": {
        "id": "BfV1i93zJEFn"
      },
      "source": [
        "import pandas as pd\n",
        "pd.options.mode.chained_assignment = None\n",
        "import numpy as np "
      ],
      "execution_count": null,
      "outputs": []
    },
    {
      "cell_type": "code",
      "metadata": {
        "id": "XbO-qQ9WEBqb"
      },
      "source": [
        "vg_df = pd.read_csv('vgsales.csv', encoding='utf-8')\n",
        "vg_df[['Name', 'Platform', 'Year', 'Genre', 'Publisher']].iloc[1:7]"
      ],
      "execution_count": null,
      "outputs": []
    },
    {
      "cell_type": "code",
      "metadata": {
        "id": "4rkP0UZcFbz9"
      },
      "source": [
        "genres = np.unique(vg_df['Genre'])\n",
        "genres"
      ],
      "execution_count": null,
      "outputs": []
    },
    {
      "cell_type": "code",
      "metadata": {
        "id": "H8K8jz7jGPIf"
      },
      "source": [
        "from sklearn.preprocessing import LabelEncoder\n",
        "\n",
        "gle = LabelEncoder()\n",
        "genre_labels = gle.fit_transform(vg_df['Genre'])\n",
        "genre_mappings = {index: label for index, label in enumerate(gle.classes_)}\n",
        "genre_mappings"
      ],
      "execution_count": null,
      "outputs": []
    },
    {
      "cell_type": "code",
      "metadata": {
        "id": "eOzxZQhaPlbU"
      },
      "source": [
        "vg_df['GenreLabel'] = genre_labels\n",
        "vg_df[['Name', 'Platform', 'Year', 'Genre', 'GenreLabel']].iloc[1:7]"
      ],
      "execution_count": null,
      "outputs": []
    },
    {
      "cell_type": "code",
      "metadata": {
        "id": "C-QFg9PRbhiu"
      },
      "source": [
        "poke_df = pd.read_csv('pokemon.csv', encoding='utf-8')\n",
        "poke_df = poke_df.sample(random_state=1, frac=1).reset_index(drop=True)\n",
        "\n",
        "np.unique(poke_df['generation'])"
      ],
      "execution_count": null,
      "outputs": []
    },
    {
      "cell_type": "code",
      "metadata": {
        "id": "9oqVCXmPeO1i"
      },
      "source": [
        "gen_ord_map = {'gen 1': 1, 'gen 2': 2, 'gen 3': 3, 'gen 4': 4, 'gen 5': 5, 'gen 6': 6, 'gen 7': 7}\n",
        "\n",
        "poke_df['generationlabel'] = poke_df['generation'].map(gen_ord_map)\n",
        "poke_df[['name', 'generation', 'generationlabel']].iloc[4:10]"
      ],
      "execution_count": null,
      "outputs": []
    },
    {
      "cell_type": "code",
      "metadata": {
        "id": "YIS2NxkOii8R"
      },
      "source": [
        "poke_df[['name', 'generation', 'is_legendary']].iloc[4:10]"
      ],
      "execution_count": null,
      "outputs": []
    },
    {
      "cell_type": "code",
      "metadata": {
        "id": "vaz-LVy4jolR"
      },
      "source": [
        "from sklearn.preprocessing import OneHotEncoder, LabelEncoder\n",
        "\n",
        "# transform and map pokemon generations\n",
        "gen_le = LabelEncoder()\n",
        "gen_labels = gen_le.fit_transform(poke_df['generation'])\n",
        "poke_df['gen_label'] = gen_labels\n",
        "\n",
        "# transform and map pokemon legendary status\n",
        "leg_le = LabelEncoder()\n",
        "leg_labels = leg_le.fit_transform(poke_df['is_legendary'])\n",
        "poke_df['Lgnd_Label'] = leg_labels\n",
        "\n",
        "poke_df_sub = poke_df[['name', 'generation', 'gen_label', 'is_legendary', 'Lgnd_Label']]\n",
        "poke_df_sub.iloc[4:10]"
      ],
      "execution_count": null,
      "outputs": []
    },
    {
      "cell_type": "code",
      "metadata": {
        "id": "BhocqQZvpmWV"
      },
      "source": [
        "# encode generation labels ussing one-hot encoding scheme\n",
        "gen_ohe = OneHotEncoder()\n",
        "gen_feature_arr = gen_ohe.fit_transform(poke_df[['gen_label']]).toarray()\n",
        "gen_feature_labels = list(gen_le.classes_)\n",
        "gen_features = pd.DataFrame(gen_feature_arr, columns=gen_feature_labels)\n",
        "\n",
        "# encode legendary status labels using one-hot encoding scheme\n",
        "leg_ohe = OneHotEncoder()\n",
        "leg_feature_arr = leg_ohe.fit_transform(poke_df[['Lgnd_Label']]).toarray()\n",
        "leg_feature_labels = ['Legendary_'+str(cls_label) for cls_label in leg_le.classes_]\n",
        "leg_features = pd.DataFrame(leg_feature_arr, columns=leg_feature_labels)"
      ],
      "execution_count": null,
      "outputs": []
    },
    {
      "cell_type": "code",
      "metadata": {
        "id": "kumJtBDlyVaC"
      },
      "source": [
        "poke_df_ohe =pd.concat([poke_df_sub, gen_features, leg_features], axis=1)\n",
        "columns = sum([['name', 'generation', 'gen_label'], gen_feature_labels,['is_legendary', 'Lgnd_Label'],\n",
        "              leg_feature_labels], [])\n",
        "poke_df_ohe[columns].iloc[4:10]"
      ],
      "execution_count": null,
      "outputs": []
    },
    {
      "cell_type": "code",
      "metadata": {
        "id": "ZbvX78hO4Hnb"
      },
      "source": [
        "new_poke_df = pd.DataFrame([['PikaZoom', '3', True],\n",
        "                            ['CharMyToast', '4', False]],\n",
        "                           columns=['name', 'generation', 'is_legendary'])\n",
        "new_poke_df"
      ],
      "execution_count": null,
      "outputs": []
    },
    {
      "cell_type": "code",
      "metadata": {
        "id": "5C-Jpa8_5A2X"
      },
      "source": [
        "new_gen_labels = gen_le.transform(new_poke_df['generation'])\n",
        "new_poke_df['Gen_Label'] = new_gen_labels\n",
        "\n",
        "new_leg_labels = leg_le.transform(new_poke_df['is_legendary'])\n",
        "new_poke_df['Lgnd_Label'] = new_leg_labels\n",
        "\n",
        "new_poke_df[['name', 'generation', 'Gen_Label', 'is_legendary', 'Lgnd_Label']]"
      ],
      "execution_count": null,
      "outputs": []
    },
    {
      "cell_type": "code",
      "metadata": {
        "id": "-F8EacGp7275"
      },
      "source": [
        "new_gen_feature_arr = gen_ohe.transform(new_poke_df[['Gen_Label']]).toarray()\n",
        "new_gen_features = pd.DataFrame(new_gen_feature_arr, columns=gen_feature_labels)\n",
        "\n",
        "new_leg_feature_arr = leg_ohe.transform(new_poke_df[['Lgnd_Label']]).toarray()\n",
        "new_leg_features = pd.DataFrame(new_leg_feature_arr, columns=leg_feature_labels)\n",
        "\n",
        "new_poke_ohe = pd.concat([new_poke_df, new_gen_features, new_leg_features], axis=1)\n",
        "columns = sum([['name', 'generation', 'Gen_Label'], gen_feature_labels,\n",
        "               ['is_legendary', 'Lgnd_Label'], leg_feature_labels], [])\n",
        "new_poke_ohe[columns]"
      ],
      "execution_count": null,
      "outputs": []
    },
    {
      "cell_type": "code",
      "metadata": {
        "id": "s4_8a7ze_r0i"
      },
      "source": [
        "gen_onehot_features =pd.get_dummies(poke_df['generation'])\n",
        "pd.concat([poke_df[['name', 'generation']], gen_onehot_features], axis=1)\n"
      ],
      "execution_count": null,
      "outputs": []
    },
    {
      "cell_type": "code",
      "metadata": {
        "id": "CjJBKQRDa2E5"
      },
      "source": [
        "gen_dummy_features = pd.get_dummies(poke_df['generation'], drop_first=True)\n",
        "pd.concat([poke_df[['name', 'generation']], gen_dummy_features], axis=1).iloc[4:10]"
      ],
      "execution_count": null,
      "outputs": []
    },
    {
      "cell_type": "code",
      "metadata": {
        "id": "XCw3BQooduZI"
      },
      "source": [
        "gen_onehot_features = pd.get_dummies(poke_df['generation'])\n",
        "gen_dummy_features = gen_onehot_features.iloc[:, :-1]\n",
        "pd.concat([poke_df[['name', 'generation']], gen_dummy_features], axis=1).iloc[4:10]"
      ],
      "execution_count": null,
      "outputs": []
    },
    {
      "cell_type": "code",
      "metadata": {
        "id": "kUvCbYH4gG0j"
      },
      "source": [
        "gen_onehot_features = pd.get_dummies(poke_df['generation'])\n",
        "gen_effect_features = gen_onehot_features.iloc[:,:-1]\n",
        "gen_effect_features.loc[np.all(gen_effect_features == 0, axis=1)] = -1.\n",
        "pd.concat([poke_df[['name', 'generation']], gen_effect_features], axis=1).iloc[4:10]"
      ],
      "execution_count": null,
      "outputs": []
    },
    {
      "cell_type": "code",
      "metadata": {
        "id": "uDc6yWjKuQaA"
      },
      "source": [
        "unique_genres = np.unique(vg_df[['Genre']])\n",
        "print(\"Total game genres:\", len(unique_genres))\n",
        "print(unique_genres)"
      ],
      "execution_count": null,
      "outputs": []
    },
    {
      "cell_type": "code",
      "metadata": {
        "id": "VY2y7y85vqnF"
      },
      "source": [
        "from sklearn.feature_extraction import FeatureHasher\n",
        "\n",
        "fh = FeatureHasher(n_features=6, input_type='string')\n",
        "hashed_features = fh.fit_transform(vg_df['Genre'])\n",
        "hashed_features = hashed_features.toarray()\n",
        "pd.concat([vg_df[['Name', 'Genre']], pd.DataFrame(hashed_features)], axis=1).iloc[1:7]"
      ],
      "execution_count": null,
      "outputs": []
    }
  ]
}
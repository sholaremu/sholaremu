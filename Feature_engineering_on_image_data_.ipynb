{
  "nbformat": 4,
  "nbformat_minor": 0,
  "metadata": {
    "colab": {
      "name": "Feature engineering on image data .ipynb",
      "private_outputs": true,
      "provenance": [],
      "collapsed_sections": [],
      "authorship_tag": "ABX9TyPBKSWbw6n5xXPvU1XWyHPi",
      "include_colab_link": true
    },
    "kernelspec": {
      "name": "python3",
      "display_name": "Python 3"
    },
    "language_info": {
      "name": "python"
    }
  },
  "cells": [
    {
      "cell_type": "markdown",
      "metadata": {
        "id": "view-in-github",
        "colab_type": "text"
      },
      "source": [
        "<a href=\"https://colab.research.google.com/github/sholaremu/sholaremu/blob/main/Feature_engineering_on_image_data_.ipynb\" target=\"_parent\"><img src=\"https://colab.research.google.com/assets/colab-badge.svg\" alt=\"Open In Colab\"/></a>"
      ]
    },
    {
      "cell_type": "code",
      "metadata": {
        "id": "GSthAFZmumHS"
      },
      "source": [
        "import skimage\n",
        "import numpy as np\n",
        "import pandas as pd\n",
        "import matplotlib.pyplot as plt\n",
        "from skimage import io\n",
        "\n",
        "%matplotlib inline"
      ],
      "execution_count": null,
      "outputs": []
    },
    {
      "cell_type": "code",
      "metadata": {
        "id": "c78cZKHzxSnJ"
      },
      "source": [
        "cat = io.imread('cat.jpg')\n",
        "dog = io.imread('dog.jpg')\n",
        "df = pd.DataFrame(['Cat', 'Dog'], columns=['Image'])\n",
        "\n",
        "print(cat.shape, dog.shape)"
      ],
      "execution_count": null,
      "outputs": []
    },
    {
      "cell_type": "code",
      "metadata": {
        "id": "U8ekPAXWygWj"
      },
      "source": [
        "fig = plt.figure(figsize = (8, 4))\n",
        "ax1 = fig.add_subplot(1,2, 1)\n",
        "ax1.imshow(cat)\n",
        "ax2 = fig.add_subplot(1,2, 2)\n",
        "ax2.imshow(dog)"
      ],
      "execution_count": null,
      "outputs": []
    },
    {
      "cell_type": "code",
      "metadata": {
        "id": "JM_l_TbNzxoC"
      },
      "source": [
        "dog_r = dog.copy() # Red Channel\n",
        "dog_r[:,:,1] = dog_r[:,:,2] = 0 # Set G,B pixels = 0\n",
        "dog_g = dog.copy() # Green Channel\n",
        "dog_g[:,:,0] = dog_r[:,:,2] = 0 # Set R,B, pixel = 0\n",
        "dog_b = dog.copy() # Blue Channel\n",
        "dog_b[:,:,0] = dog_b[:,:,1] = 0 # Set R,G pixel = 0\n",
        "\n",
        "plot_image = np.concatenate((dog_r, dog_g, dog_b), axis=1)\n",
        "plt.figure(figsize= (10,4))\n",
        "plt.imshow(plot_image)"
      ],
      "execution_count": null,
      "outputs": []
    },
    {
      "cell_type": "code",
      "metadata": {
        "id": "T_GeidtQ15Zw"
      },
      "source": [
        "dog_r[:,:,0]"
      ],
      "execution_count": null,
      "outputs": []
    },
    {
      "cell_type": "code",
      "metadata": {
        "id": "mO8MahlC21Bk"
      },
      "source": [
        "from skimage.color import rgb2gray\n",
        "\n",
        "cgs = rgb2gray(cat)\n",
        "dgs = rgb2gray(dog)\n",
        "\n",
        "print('Image Shape:', cgs.shape, '\\n')\n",
        "\n",
        "# 2D pixel map\n",
        "print('2D image pixel map')\n",
        "print(np.round(cgs, 2), '\\n')\n",
        "\n",
        "# flattened pixel feature vector\n",
        "print('Flattened pixel map:', (np.round(cgs.flatten(), 2)))"
      ],
      "execution_count": null,
      "outputs": []
    },
    {
      "cell_type": "code",
      "metadata": {
        "id": "ZCpnWvI84ypZ"
      },
      "source": [
        "fig = plt.figure(figsize = (8,4))\n",
        "ax1 = fig.add_subplot(2,2, 1)\n",
        "ax1.imshow(cgs, cmap=\"gray\")\n",
        "ax2 = fig.add_subplot(2,2, 2)\n",
        "ax2.imshow(dgs, cmap=\"gray\")\n",
        "ax3 = fig.add_subplot(2,2, 3)\n",
        "c_freq, c_bins, c_patches = ax3.hist(cgs.flatten(), bins=30)\n",
        "ax4 = fig.add_subplot(2,2, 4)\n",
        "d_freq, d_bins, d_patches = ax4.hist(dgs.flatten(), bins=30)\n"
      ],
      "execution_count": null,
      "outputs": []
    },
    {
      "cell_type": "code",
      "metadata": {
        "id": "5-aU8rQb8Kme"
      },
      "source": [
        "from scipy.stats import describe\n",
        "\n",
        "cat_rgb = cat.reshape((183*275), 3).T\n",
        "dog_rgb = dog.reshape((194*259), 3).T\n",
        "\n",
        "cs = describe(cat_rgb, axis=1)\n",
        "ds = describe(dog_rgb, axis=1)\n",
        "\n",
        "cat_rgb_range = cs.minmax[1] - cs.minmax[0]\n",
        "dog_rgb_range = ds.minmax[1] - ds.minmax[0]\n",
        "rgb_range_df = pd.DataFrame([cat_rgb_range, dog_rgb_range],\n",
        "                            columns=['R_rnage', 'G_range', 'B_range'])\n",
        "pd.concat([df, rgb_range_df], axis=1)\n"
      ],
      "execution_count": null,
      "outputs": []
    },
    {
      "cell_type": "code",
      "metadata": {
        "id": "MRAhy_g6_t76"
      },
      "source": [
        "cat_stats = np.array([np.round(cs.mean, 2), np.round(cs.variance, 2),\n",
        "                      np.round(cs.kurtosis, 2), np.round(cs.skewness, 2), \n",
        "                      np.round(np.median(cat_rgb, axis=1), 2)]).flatten()\n",
        "dog_stats = np.array([np.round(ds.mean, 2), np.round(ds.variance, 2),\n",
        "                      np.round(ds.kurtosis, 2), np.round(ds.skewness, 2), \n",
        "                      np.round(np.median(dog_rgb, axis=1), 2)]).flatten()\n",
        "stats_df = pd.DataFrame([cat_stats, dog_stats],\n",
        "                        columns=['R_mean', 'G_mean', 'B_mean', 'R_var', 'G_var',\n",
        "                                 'B_var', 'R_kurt', 'G_kurt', 'B_kurt', 'R_skew',\n",
        "                                 'G_skew', 'B_skew', 'R_med', 'G_med', 'B_med'])\n",
        "pd.concat([df, stats_df], axis=1)"
      ],
      "execution_count": null,
      "outputs": []
    },
    {
      "cell_type": "code",
      "metadata": {
        "id": "TFBGE0Tu1RJG"
      },
      "source": [
        "from skimage.feature import canny\n",
        "\n",
        "cat_edges = canny(cgs, sigma=3)\n",
        "dog_edges = canny(dgs, sigma=3)\n",
        "\n",
        "fig = plt.figure(figsize=(8,4))\n",
        "ax1 = fig.add_subplot(1,2, 1)\n",
        "ax1.imshow(cat_edges, cmap='binary')\n",
        "ax2 = fig.add_subplot(1,2, 2)\n",
        "ax2.imshow(dog_edges, cmap='binary')"
      ],
      "execution_count": null,
      "outputs": []
    },
    {
      "cell_type": "code",
      "metadata": {
        "id": "CJzruYE83yBD"
      },
      "source": [
        "from skimage.feature import hog\n",
        "from skimage import exposure\n",
        "\n",
        "fd_cat, cat_hog = hog(cgs, orientations=8, pixels_per_cell=(8,8),\n",
        "                                            cells_per_block=(3,3), visualize=True)\n",
        "fd_dog, dog_hog = hog(dgs, orientations=8, pixels_per_cell=(8,8),\n",
        "                      cells_per_block=(3,3), visualize=True)\n",
        "\n",
        "# rescaing intensity to get better plots\n",
        "cat_hogs = exposure.rescale_intensity(cat_hog, in_range=(0, 0.04))\n",
        "dog_hogs = exposure.rescale_intensity(dog_hog, in_range=(0, 0.04))\n",
        "\n",
        "fig = plt.figure(figsize = (10,4))\n",
        "ax1 = fig.add_subplot(1,2, 1)\n",
        "ax1.imshow(cat_hogs, cmap='binary')\n",
        "ax2 = fig.add_subplot(1,2, 2)\n",
        "ax2.imshow(dog_hogs, cmap='binary')"
      ],
      "execution_count": null,
      "outputs": []
    },
    {
      "cell_type": "code",
      "metadata": {
        "id": "NzE5tZmL8y63"
      },
      "source": [
        "print(fd_cat, fd_cat.shape)"
      ],
      "execution_count": null,
      "outputs": []
    },
    {
      "cell_type": "code",
      "metadata": {
        "id": "wbod2p-G-W_9"
      },
      "source": [
        "from mahotas.features import surf\n",
        "import mahotas as mh\n",
        "\n",
        "cat_mh = mh.colors.rgb2gray(cat)\n",
        "dog_mh = mh.colors.rgb2gray(dog)\n",
        "\n",
        "cat_surf = surf.surf(cat_mh, nr_octaves=8, nr_scales=16, initial_step_size=1,\n",
        "                     threshold=0.1, max_points=50)\n",
        "dog_surf = surf.surf(dog_mh, nr_octaves=8, nr_scales=16, initial_step_size=1,\n",
        "                     threshold=0.1, max_points=54)\n",
        "\n",
        "fig = plt.figure(figsize= (10, 4))\n",
        "ax1 = fig.add_subplot(1,2, 1)\n",
        "ax1.imshow(surf.show_surf(cat_mh, cat_surf))\n",
        "ax2 = fig.add_subplot(1,2, 2)\n",
        "ax2.imshow(surf.show_surf(dog_mh, dog_surf))"
      ],
      "execution_count": null,
      "outputs": []
    },
    {
      "cell_type": "code",
      "metadata": {
        "id": "gozVwpA7Cel4"
      },
      "source": [
        "cat_surf_fds = surf.dense(cat_mh, spacing=10)\n",
        "dog_surf_fds = surf.dense(dog_mh, spacing=10)\n",
        "cat_surf_fds.shape"
      ],
      "execution_count": null,
      "outputs": []
    },
    {
      "cell_type": "code",
      "metadata": {
        "id": "3-WLVLNaBlwk"
      },
      "source": [
        "!pip install mahotas"
      ],
      "execution_count": null,
      "outputs": []
    },
    {
      "cell_type": "code",
      "metadata": {
        "id": "Gzw4xx0KFZCo"
      },
      "source": [
        "from sklearn.cluster import KMeans\n",
        "\n",
        "k = 20\n",
        "km = KMeans(k, n_init=100, max_iter=100)\n",
        "\n",
        "surf_fd_features = np.array([cat_surf_fds, dog_surf_fds])\n",
        "km.fit(np.concatenate(surf_fd_features))\n",
        "\n",
        "vbow_features = []\n",
        "for feature_desc in surf_fd_features:\n",
        "  labels = km.predict(feature_desc)\n",
        "  vbow = np.bincount(labels, minlength=k)\n",
        "  vbow_features.append(vbow)\n",
        "\n",
        "vbow_df = pd.DataFrame(vbow_features)\n",
        "pd.concat([df, vbow_df], axis=1)\n"
      ],
      "execution_count": null,
      "outputs": []
    },
    {
      "cell_type": "code",
      "metadata": {
        "id": "-Kzc-K5wJps5"
      },
      "source": [
        "new_cat = io.imread('new_cat.jpg')\n",
        "newcat_mh = mh.colors.rgb2gray(new_cat)\n",
        "newcat_surf = surf.surf(newcat_mh, nr_octaves=8, nr_scales=16, initial_step_size=1,\n",
        "                        threshold=0.1, max_points=50)\n",
        "\n",
        "fig = plt.figure(figsize = (10, 4))\n",
        "ax1 = fig.add_subplot(1,2, 1)\n",
        "ax1.imshow(surf.show_surf(newcat_mh, newcat_surf))"
      ],
      "execution_count": null,
      "outputs": []
    },
    {
      "cell_type": "code",
      "metadata": {
        "id": "pW-9VNx3LVNf"
      },
      "source": [
        "new_surf_fds = surf.dense(newcat_mh, spacing=10)\n",
        "new_vbow = np.bincount(labels, minlength=k)\n",
        "pd.DataFrame([new_vbow])"
      ],
      "execution_count": null,
      "outputs": []
    },
    {
      "cell_type": "code",
      "metadata": {
        "id": "XoeLyX4PMHq-"
      },
      "source": [
        "from sklearn.metrics.pairwise import euclidean_distances, cosine_similarity\n",
        "\n",
        "eucdis = euclidean_distances(new_vbow.reshape(1,-1), vbow_features)\n",
        "cossim = cosine_similarity(new_vbow.reshape(1,-1), vbow_features)\n",
        "\n",
        "result_df = pd.DataFrame({'EuclideanDistance': eucdis[0],\n",
        "                          'CosineSimilarity': cossim[0]})\n",
        "pd.concat([df, result_df], axis=1)\n",
        "\n"
      ],
      "execution_count": null,
      "outputs": []
    }
  ]
}
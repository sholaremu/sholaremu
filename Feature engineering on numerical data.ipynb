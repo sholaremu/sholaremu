{
  "nbformat": 4,
  "nbformat_minor": 0,
  "metadata": {
    "colab": {
      "name": "Untitled0.ipynb",
      "private_outputs": true,
      "provenance": [],
      "mount_file_id": "1UHzK-IRmaOUa3CMYfi3K8e0sxt0SIAPF",
      "authorship_tag": "ABX9TyOcybTefNI+rWER13X6DGYq",
      "include_colab_link": true
    },
    "kernelspec": {
      "name": "python3",
      "display_name": "Python 3"
    },
    "language_info": {
      "name": "python"
    }
  },
  "cells": [
    {
      "cell_type": "markdown",
      "metadata": {
        "id": "view-in-github",
        "colab_type": "text"
      },
      "source": [
        "<a href=\"https://colab.research.google.com/github/sholaremu/sholaremu/blob/main/Feature%20engineering%20on%20numerical%20data.ipynb\" target=\"_parent\"><img src=\"https://colab.research.google.com/assets/colab-badge.svg\" alt=\"Open In Colab\"/></a>"
      ]
    },
    {
      "cell_type": "code",
      "metadata": {
        "id": "QDQNjrI0V5ow"
      },
      "source": [
        "import pandas as pd\n",
        "import matplotlib.pyplot as plt\n",
        "import matplotlib as mpl\n",
        "import numpy as np\n",
        "import scipy.stats as spstats\n",
        "\n",
        "\n",
        "%matplotlib inline\n",
        "mpl.style.reload_library()\n",
        "mpl.style.use('classic')\n",
        "mpl.rcParams['figure.facecolor']  = (1, 1, 1, 0)\n",
        "mpl.rcParams['figure.figsize'] = [6.0, 4.0]\n",
        "mpl.rcParams['figure.dpi'] = 100"
      ],
      "execution_count": null,
      "outputs": []
    },
    {
      "cell_type": "code",
      "metadata": {
        "id": "Zyw9cAPUoXgG"
      },
      "source": [
        "poke_df = pd.read_csv('pokemon.csv', encoding='utf-8')\n",
        "poke_df.head()"
      ],
      "execution_count": null,
      "outputs": []
    },
    {
      "cell_type": "code",
      "metadata": {
        "id": "1wTXAfofuFOu"
      },
      "source": [
        "poke_df[['hp', 'attack', 'defense']].head()"
      ],
      "execution_count": null,
      "outputs": []
    },
    {
      "cell_type": "code",
      "metadata": {
        "id": "191DFS9Su4iO"
      },
      "source": [
        "poke_df[['hp', 'attack', 'defense']].describe()"
      ],
      "execution_count": null,
      "outputs": []
    },
    {
      "cell_type": "code",
      "metadata": {
        "id": "EhqAQM98vvtc"
      },
      "source": [
        "popsong_df = pd.read_csv('song_views.csv', encoding='utf-8')\n",
        "popsong_df.head(10)"
      ],
      "execution_count": null,
      "outputs": []
    },
    {
      "cell_type": "code",
      "metadata": {
        "id": "sJk5LnnOxuOF"
      },
      "source": [
        "watched = np.array(popsong_df['listen_count'])\n",
        "watched[watched >= 1] = 1\n",
        "popsong_df['watched'] = watched"
      ],
      "execution_count": null,
      "outputs": []
    },
    {
      "cell_type": "code",
      "metadata": {
        "id": "_Jd89D-h-wBo"
      },
      "source": [
        "from sklearn.preprocessing import Binarizer\n",
        "\n",
        "bn = Binarizer(threshold=0.9)\n",
        "pd_watched = bn.transform([popsong_df['listen_count']])[0]\n",
        "popsong_df['pd_watched'] = pd_watched\n",
        "popsong_df.head(11)"
      ],
      "execution_count": null,
      "outputs": []
    },
    {
      "cell_type": "code",
      "metadata": {
        "id": "iGqLDHUILrqf"
      },
      "source": [
        "items_popularity = pd.read_csv('items_popularity.csv', encoding='utf-8')\n",
        "# round off percentages\n",
        "items_popularity['popularity_scale_10'] = np.array(np.round((items_popularity['pop_percent'] * 10)),dtype='int')\n",
        "items_popularity['popularity_scale_100'] = np.array(np.round((items_popularity['pop_percent'] * 100)), dtype='int')\n",
        "items_popularity"
      ],
      "execution_count": null,
      "outputs": []
    },
    {
      "cell_type": "code",
      "metadata": {
        "id": "5-ejXSrPX08X"
      },
      "source": [
        "atk_def = poke_df[['attack', 'defense']]\n",
        "atk_def.head()"
      ],
      "execution_count": null,
      "outputs": []
    },
    {
      "cell_type": "code",
      "metadata": {
        "id": "dNKjvxHzYTmG"
      },
      "source": [
        "from sklearn.preprocessing import  PolynomialFeatures\n",
        "\n",
        "pf = PolynomialFeatures(degree=2, interaction_only=False, include_bias=False)\n",
        "res = pf.fit_transform(atk_def)\n",
        "res"
      ],
      "execution_count": null,
      "outputs": []
    },
    {
      "cell_type": "code",
      "metadata": {
        "id": "1hjW2QJ5aLgr"
      },
      "source": [
        "pd.DataFrame(pf.powers_, columns=['attack_degree', 'defense_degree'])"
      ],
      "execution_count": null,
      "outputs": []
    },
    {
      "cell_type": "code",
      "metadata": {
        "id": "_x4f-mxra1-E"
      },
      "source": [
        "intr_features = pd.DataFrame(res, columns=['attack', 'defense', 'Attack^2', 'Attack X Defense', 'Defense^2'])\n",
        "intr_features.head(5)\n"
      ],
      "execution_count": null,
      "outputs": []
    },
    {
      "cell_type": "code",
      "metadata": {
        "id": "SzPwx15ucuNw"
      },
      "source": [
        "new_df = pd.DataFrame([[95, 75], [121, 120], [77, 60]],\n",
        "                      columns=['Attack', 'Defense'])\n",
        "new_df"
      ],
      "execution_count": null,
      "outputs": []
    },
    {
      "cell_type": "code",
      "metadata": {
        "id": "Tmw_1u34eToi"
      },
      "source": [
        "new_res = pf.transform(new_df)\n",
        "new_intr_features = pd.DataFrame(new_res, columns=['Attack', 'Defense',\n",
        "                                                   'Attack^2', 'Attack x Defense', 'Defense^2'])\n",
        "new_intr_features"
      ],
      "execution_count": null,
      "outputs": []
    },
    {
      "cell_type": "code",
      "metadata": {
        "id": "8NmAysYRique"
      },
      "source": [
        "fcc_survey_df = pd.read_csv('fcc_2016_Coders_Survey_subset.csv', encoding='utf-8')\n",
        "fcc_survey_df[['ID.x', 'EmploymentField', 'Age', 'Income']].head()"
      ],
      "execution_count": null,
      "outputs": []
    },
    {
      "cell_type": "code",
      "metadata": {
        "id": "0vSH_kPyYEyf"
      },
      "source": [
        "fig, ax = plt.subplots()\n",
        "fcc_survey_df['Age'].hist(color='#A9C5D3')\n",
        "ax.set_title('Develper Age Histogram', fontsize=12)\n",
        "ax.set_xlabel('Age', fontsize=12)\n",
        "ax.set_ylabel('Frequency', fontsize=12)"
      ],
      "execution_count": null,
      "outputs": []
    },
    {
      "cell_type": "code",
      "metadata": {
        "id": "bA55nYc6cAOg"
      },
      "source": [
        "fcc_survey_df['Age_bin_round'] = np.array(np.floor(np.array(fcc_survey_df['Age']) / 10.))\n",
        "fcc_survey_df[['ID.x', 'Age', 'Age_bin_round']].iloc[10:17]"
      ],
      "execution_count": null,
      "outputs": []
    },
    {
      "cell_type": "code",
      "metadata": {
        "id": "UaGft7lGeE2j"
      },
      "source": [
        "bin_ranges = [0, 15, 30, 45, 60, 75, 100]\n",
        "bin_names = [1, 2, 3, 4, 5, 6]\n",
        "fcc_survey_df['Age_bin_custom_range'] = pd.cut(np.array(fcc_survey_df['Age']), bins=bin_ranges)\n",
        "fcc_survey_df['Age_bin_custom_label'] = pd.cut(np.array(fcc_survey_df['Age']), bins=bin_ranges, labels=bin_names)\n",
        "fcc_survey_df[['ID.x', 'Age', 'Age_bin_round', 'Age_bin_custom_range', 'Age_bin_custom_label']].iloc[7:15]"
      ],
      "execution_count": null,
      "outputs": []
    },
    {
      "cell_type": "code",
      "metadata": {
        "id": "vAECbuOPhil7"
      },
      "source": [
        "fcc_survey_df[['ID.x', 'Age', 'Income']].iloc[4:9]"
      ],
      "execution_count": null,
      "outputs": []
    },
    {
      "cell_type": "code",
      "metadata": {
        "id": "gfnbAGJckhU6"
      },
      "source": [
        "fig, ax = plt.subplots()\n",
        "fcc_survey_df['Income'].hist(bins=30, color='#A9C5D3')\n",
        "ax.set_title('Developer Income Histogram', fontsize=12)\n",
        "ax.set_xlabel('Developer Income', fontsize=12)\n",
        "ax.set_ylabel('Frequency', fontsize=12)"
      ],
      "execution_count": null,
      "outputs": []
    },
    {
      "cell_type": "code",
      "metadata": {
        "id": "6usY7xR9l-wp"
      },
      "source": [
        "quantile_list = [0, .25, .5, .75, 1.]\n",
        "quantiles = fcc_survey_df['Income'].quantile(quantile_list)\n",
        "quantiles"
      ],
      "execution_count": null,
      "outputs": []
    },
    {
      "cell_type": "code",
      "metadata": {
        "id": "6JQ0CdwDmnco"
      },
      "source": [
        "fig, ax = plt.subplots()\n",
        "fcc_survey_df['Income'].hist(bins=30, color='#A9C5D3')\n",
        "\n",
        "for quantile in quantiles:\n",
        "  qvl = plt.axvline(quantile, color='r')\n",
        "  ax.legend([qvl], ['Quantiles'], fontsize=10)\n",
        "\n",
        "  ax.set_title('Developer Income Histogram with Quantils', fontsize=12)\n",
        "  ax.set_xlabel('Developer Income', fontsize=12)\n",
        "  ax.set_ylabel('Frequency', fontsize=12)"
      ],
      "execution_count": null,
      "outputs": []
    },
    {
      "cell_type": "code",
      "metadata": {
        "id": "Sf2D3ePeuUcE"
      },
      "source": [
        "quantile_labels = ['0-25Q', '25-50Q', '50-75Q', '75-100Q']\n",
        "fcc_survey_df['Income_quantile_range'] = pd.qcut(fcc_survey_df['Income'], q=quantile_list)\n",
        "fcc_survey_df['Income_quantile_label'] = pd.qcut(fcc_survey_df['Income'], q=quantile_list, labels=quantile_labels)\n",
        "\n",
        "fcc_survey_df[['ID.x', 'Age', 'Income', 'Income_quantile_range', 'Income_quantile_label']].iloc[4:9]"
      ],
      "execution_count": null,
      "outputs": []
    },
    {
      "cell_type": "code",
      "metadata": {
        "id": "HTFkYZG723pZ"
      },
      "source": [
        "fcc_survey_df['Income_log'] = np.log((1+ fcc_survey_df['Income']))\n",
        "fcc_survey_df[['ID.x', 'Age', 'Income', 'Income_log']].iloc[4:9]"
      ],
      "execution_count": null,
      "outputs": []
    },
    {
      "cell_type": "code",
      "metadata": {
        "id": "YNxvU5fl4YVh"
      },
      "source": [
        "Income_log_mean = np.round(np.mean(fcc_survey_df['Income_log']), 2)\n",
        "fig, ax = plt.subplots()\n",
        "fcc_survey_df['Income_log'].hist(bins=30, color='#A9C5D3')\n",
        "plt.axvline(Income_log_mean, color='r')\n",
        "ax.set_title('Developer Income Histogram after Log Transform', fontsize=12)\n",
        "ax.set_xlabel('Developer Income (log scale)', fontsize=12)\n",
        "ax.set_ylabel('Frequency', fontsize=12)\n",
        "ax.text(11.5, 400, r'$\\mu$='+str(Income_log_mean), fontsize=10)"
      ],
      "execution_count": null,
      "outputs": []
    },
    {
      "cell_type": "code",
      "metadata": {
        "id": "00Xfcckn_El1"
      },
      "source": [
        "# get optimal lambda value from non null income values\n",
        "income = np.array(fcc_survey_df['Income'])\n",
        "income_clean = income[~np.isnan(income)]\n",
        "l, opt_lambda = spstats.boxcox(income_clean)\n",
        "print('Optmal lambda value:', opt_lambda)\n"
      ],
      "execution_count": null,
      "outputs": []
    },
    {
      "cell_type": "code",
      "metadata": {
        "id": "GIcN5clXBzCT"
      },
      "source": [
        "fcc_survey_df['Income_boxcox_lambda_0'] = spstats.boxcox((1+fcc_survey_df['Income']),\n",
        "                                                         lmbda=0)\n",
        "fcc_survey_df['Income_boxcox_lambda_opt'] = spstats.boxcox(fcc_survey_df['Income'],\n",
        "                                                           lmbda=opt_lambda)\n",
        "fcc_survey_df[['ID.x', 'Age', 'Income', 'Income_log', 'Income_boxcox_lambda_0', 'Income_boxcox_lambda_opt']].iloc[4:9]"
      ],
      "execution_count": null,
      "outputs": []
    },
    {
      "cell_type": "code",
      "metadata": {
        "id": "JZcxqmMeEaBH"
      },
      "source": [
        "income_boxcox_mean = np.round(np.mean(fcc_survey_df['Income_boxcox_lambda_opt']), 2)\n",
        "\n",
        "fig, ax = plt.subplots()\n",
        "fcc_survey_df['Income_boxcox_lambda_opt'].hist(bins=30, color='#A9C5D3')\n",
        "plt.axvline(income_boxcox_mean, color='r')\n",
        "ax.set_title('Developer income Histogram fter Box-Cox Transform', fontsize=12)\n",
        "ax.set_xlabel('Developer Income (Box-Cox transform)', fontsize=12)\n",
        "ax.set_ylabel('Frequency', fontsize=12)\n",
        "ax.text(24, 400, r'$\\mu$='+str(income_boxcox_mean), fontsize=10)"
      ],
      "execution_count": null,
      "outputs": []
    }
  ]
}
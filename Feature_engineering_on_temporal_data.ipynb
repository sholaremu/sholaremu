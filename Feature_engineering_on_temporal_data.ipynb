{
  "nbformat": 4,
  "nbformat_minor": 0,
  "metadata": {
    "colab": {
      "name": "Feature engineering on temporal data.ipynb",
      "private_outputs": true,
      "provenance": [],
      "authorship_tag": "ABX9TyMbx5i5a72elXH8fg0T4elF",
      "include_colab_link": true
    },
    "kernelspec": {
      "name": "python3",
      "display_name": "Python 3"
    },
    "language_info": {
      "name": "python"
    }
  },
  "cells": [
    {
      "cell_type": "markdown",
      "metadata": {
        "id": "view-in-github",
        "colab_type": "text"
      },
      "source": [
        "<a href=\"https://colab.research.google.com/github/sholaremu/sholaremu/blob/main/Feature_engineering_on_temporal_data.ipynb\" target=\"_parent\"><img src=\"https://colab.research.google.com/assets/colab-badge.svg\" alt=\"Open In Colab\"/></a>"
      ]
    },
    {
      "cell_type": "code",
      "metadata": {
        "id": "_HUE4pRjBV0E"
      },
      "source": [
        "import datetime\n",
        "import numpy as np\n",
        "import pandas as pd\n",
        "from dateutil.parser import  parse\n",
        "import pytz"
      ],
      "execution_count": null,
      "outputs": []
    },
    {
      "cell_type": "code",
      "metadata": {
        "id": "92zKBkm5Cpjs"
      },
      "source": [
        "time_stamps = ['2021-08-30 18:11:00.360000+00:00', '2020-07-13 15:45:05.755000-07:00', '2019-01-20 22:30:00.254000+05:30',\n",
        "               '2018-12-25 00:30:00.000000+10:00']\n",
        "\n",
        "df = pd.DataFrame(time_stamps, columns=['Time'])\n",
        "df"
      ],
      "execution_count": null,
      "outputs": []
    },
    {
      "cell_type": "code",
      "metadata": {
        "id": "WKov-qtvEURq"
      },
      "source": [
        "ts_objs = np.array([pd.Timestamp(item) for item in np.array(df.Time)])\n",
        "df['TS_obj'] = ts_objs\n",
        "ts_objs"
      ],
      "execution_count": null,
      "outputs": []
    },
    {
      "cell_type": "code",
      "metadata": {
        "id": "RGwW1rZAF-VC"
      },
      "source": [
        "df['Year'] = df['TS_obj'].apply(lambda d: d.year)\n",
        "df['Month'] = df['TS_obj'].apply(lambda d: d.month)\n",
        "df['Day'] = df['TS_obj'].apply(lambda d: d.day)\n",
        "df['DayOfWeek'] = df['TS_obj'].apply(lambda d: d.dayofweek)\n",
        "df['DayName'] = df['TS_obj'].apply(lambda d: d.day)\n",
        "df['DayOfYear'] = df['TS_obj'].apply(lambda d: d.dayofyear)\n",
        "df['WeekOfYear'] = df['TS_obj'].apply(lambda d: d.weekofyear)\n",
        "df['Quarter'] = df['TS_obj'].apply(lambda d: d.quarter)\n",
        "\n",
        "df[['Time', 'Year', 'Month', 'Day', 'Quarter', 'DayOfWeek', 'DayName', 'DayOfYear', 'WeekOfYear']]\n"
      ],
      "execution_count": null,
      "outputs": []
    },
    {
      "cell_type": "code",
      "metadata": {
        "id": "h5uD-iwLKiBP"
      },
      "source": [
        "df['Hour'] = df['TS_obj'].apply(lambda d: d.hour)\n",
        "df['Minute'] = df['TS_obj'].apply(lambda d: d.minute)\n",
        "df['Second'] = df['TS_obj'].apply(lambda d: d.second)\n",
        "df['MUsecond'] = df['TS_obj'].apply(lambda d: d.microsecond)\n",
        "df['UTC_offset'] = df['TS_obj'].apply(lambda d: d.utcoffset)\n",
        "\n",
        "df[['Time', 'Hour', 'Minute', 'Second', 'MUsecond', 'UTC_offset']]"
      ],
      "execution_count": null,
      "outputs": []
    },
    {
      "cell_type": "code",
      "metadata": {
        "id": "UU7zHTg5NyL4"
      },
      "source": [
        "hour_bins = [-1, 5, 11, 16, 21, 23]\n",
        "bin_names = ['Late Night', 'Morning', 'Afternoon', 'Evening', 'Night']\n",
        "df['TimeOfDayBin'] = pd.cut(df['Hour'], bins=hour_bins, labels=bin_names)\n",
        "\n",
        "df[['Time', 'Hour', 'TimeOfDayBin']]"
      ],
      "execution_count": null,
      "outputs": []
    },
    {
      "cell_type": "code",
      "metadata": {
        "id": "2r6gE4hcQBZQ"
      },
      "source": [
        "df['TZ_info'] = df['TS_obj'].apply(lambda d: d.tzinfo)\n",
        "df['TimeZones'] = df['TS_obj'].apply(lambda d: list({d.astimezone(tz).tzname() for tz in map(pytz.timezone, pytz.all_timezones_set)\n",
        "if d.astimezone(tz).utcoffset() == d.utcoffset()}))\n",
        "\n",
        "df[['Time', 'UTC_offset', 'TZ_info', 'TimeZones']]\n",
        "\n"
      ],
      "execution_count": null,
      "outputs": []
    },
    {
      "cell_type": "code",
      "metadata": {
        "id": "8mUOooqGSTA1"
      },
      "source": [
        "df['TimeUTC'] = df['TS_obj'].apply(lambda d: d.tz_convert(pytz.utc))\n",
        "df['Epoch'] = df['TimeUTC'].apply(lambda d: d.timestamp())\n",
        "df['GregOrdinal'] = df['TimeUTC'].apply(lambda d: d.toordinal())\n",
        "\n",
        "df[['Time', 'TimeUTC', 'Epoch', 'GregOrdinal']]"
      ],
      "execution_count": null,
      "outputs": []
    },
    {
      "cell_type": "code",
      "metadata": {
        "id": "xZZSn5X5rsdG"
      },
      "source": [
        "curr_ts = datetime.datetime.now(pytz.utc)\n",
        "# compute days elapsed since today\n",
        "df['DaysElapsedEpoch'] = (curr_ts.timestamp() - df['Epoch']) / (3600*24)\n",
        "df['DaysElapsedOrdinal'] = (curr_ts.toordinal() - df['GregOrdinal'])\n",
        "\n",
        "df[['Time', 'TimeUTC', 'DaysElapsedEpoch', 'DaysElapsedOrdinal']]"
      ],
      "execution_count": null,
      "outputs": []
    }
  ]
}